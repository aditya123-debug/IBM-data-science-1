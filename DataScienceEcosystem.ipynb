{
  "metadata": {
    "kernelspec": {
      "name": "python",
      "display_name": "Python (Pyodide)",
      "language": "python"
    },
    "language_info": {
      "codemirror_mode": {
        "name": "python",
        "version": 3
      },
      "file_extension": ".py",
      "mimetype": "text/x-python",
      "name": "python",
      "nbconvert_exporter": "python",
      "pygments_lexer": "ipython3",
      "version": "3.8"
    }
  },
  "nbformat_minor": 5,
  "nbformat": 4,
  "cells": [
    {
      "id": "88feeef0-6a26-4d56-8dcf-3d20469c17e2",
      "cell_type": "markdown",
      "source": "# Data Science Tools and Ecosystem",
      "metadata": {}
    },
    {
      "id": "99bfac7c-904a-4b52-ab81-cd7452a01241",
      "cell_type": "markdown",
      "source": "## In this notebook, Data Science Tools and Ecosystem are summarized.",
      "metadata": {},
      "attachments": {}
    },
    {
      "id": "be311477-41ba-4da0-830e-07800f978613",
      "cell_type": "markdown",
      "source": "Objectives:",
      "metadata": {}
    },
    {
      "id": "784f9b9d-1444-41b0-b78d-cea3bf0f3af6",
      "cell_type": "markdown",
      "source": "1. languages used in data science\n2. commonly used libraries\n3. examples on the jupyter notebook",
      "metadata": {}
    },
    {
      "id": "7c9de5f9-1471-4995-9c3a-06efdd2116aa",
      "cell_type": "markdown",
      "source": " Some of the popular languages that Data Scientists use are:",
      "metadata": {}
    },
    {
      "id": "54529279-c7ed-4c12-b23d-7155cf50c402",
      "cell_type": "markdown",
      "source": "1. Python\n2. R language\n3. SQL",
      "metadata": {}
    },
    {
      "id": "a86d0fda-f347-4801-a9cc-67c1e60e6ad6",
      "cell_type": "markdown",
      "source": "|Data Science Tools|\n|------------------|\n|Jupyter notebook  |\n|VSCODE            |\n|Google collab     |",
      "metadata": {}
    },
    {
      "id": "60942cad-cbee-4b9c-840e-e93021399134",
      "cell_type": "markdown",
      "source": "",
      "metadata": {}
    },
    {
      "id": "f7c0ce4b-d6de-4847-8ae4-816d5efb2864",
      "cell_type": "markdown",
      "source": "### Some of the commonly used libraries used by Data Scientists include:",
      "metadata": {}
    },
    {
      "id": "66600e5e-8946-4626-acec-6e05e20e76ae",
      "cell_type": "markdown",
      "source": "1. Pandas\n2. matplotlib\n3. Numpy",
      "metadata": {}
    },
    {
      "id": "c3e80158-e8e0-427a-9a21-3895c60d4fa8",
      "cell_type": "markdown",
      "source": "### Below are a few examples of evaluating arithmetic expressions in Python",
      "metadata": {}
    },
    {
      "id": "8c853e60-3eea-4454-a5c0-b62cb8167e67",
      "cell_type": "markdown",
      "source": "This a simple arithmetic expression to mutiply then add integers",
      "metadata": {}
    },
    {
      "id": "88aae608-6c19-4306-b907-2348650a809e",
      "cell_type": "code",
      "source": "(3*4)+5",
      "metadata": {
        "trusted": true
      },
      "outputs": [
        {
          "execution_count": 3,
          "output_type": "execute_result",
          "data": {
            "text/plain": "17"
          },
          "metadata": {}
        }
      ],
      "execution_count": 3
    },
    {
      "id": "7049b4f3-e324-40d7-bedb-470da4856f47",
      "cell_type": "markdown",
      "source": "This will convert 200 minutes to hours by diving by 60",
      "metadata": {}
    },
    {
      "id": "0d874187-1ab3-4704-bfa3-46ece5988905",
      "cell_type": "code",
      "source": "200/60\n",
      "metadata": {
        "trusted": true
      },
      "outputs": [
        {
          "execution_count": 4,
          "output_type": "execute_result",
          "data": {
            "text/plain": "3.3333333333333335"
          },
          "metadata": {}
        }
      ],
      "execution_count": 4
    },
    {
      "id": "1707cc6f-6669-4219-95e2-dcabd86f1fa0",
      "cell_type": "markdown",
      "source": "## Author:Aditya Reddy",
      "metadata": {}
    },
    {
      "id": "3fa2c6b8-b806-474e-bb0d-112d6c4cdbae",
      "cell_type": "code",
      "source": "",
      "metadata": {
        "trusted": true
      },
      "outputs": [],
      "execution_count": null
    },
    {
      "id": "66b92485-d35b-4520-9694-e6e49a44569b",
      "cell_type": "code",
      "source": "",
      "metadata": {
        "trusted": true
      },
      "outputs": [],
      "execution_count": null
    }
  ]
}